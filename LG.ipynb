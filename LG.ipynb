{
 "cells": [
  {
   "cell_type": "code",
   "execution_count": 1,
   "metadata": {},
   "outputs": [],
   "source": [
    "import argparse\n",
    "import time\n",
    "import warnings\n",
    "\n",
    "from algo.LogisticCircuit import LogisticCircuit\n",
    "from structure.Vtree import Vtree\n",
    "from util.mnist_data import read_data_sets\n",
    "\n",
    "FLAGS = 'None'"
   ]
  },
  {
   "cell_type": "code",
   "execution_count": 2,
   "metadata": {},
   "outputs": [
    {
     "name": "stdout",
     "output_type": "stream",
     "text": [
      "Namespace(circuit='', data_path='D:\\\\Code\\\\Python-Coding\\\\LogisticCircuit\\\\util\\\\', depth=2, num_classes=10, num_parameter_learning_iterations=15, num_splits=3, num_structure_learning_iterations=5, percentage=0.2, save_path='./image/', vtree='balanced.vtree')\n"
     ]
    }
   ],
   "source": [
    "parser = argparse.ArgumentParser(description='LG')\n",
    "parser.add_argument(\"--data_path\",default=\"D:\\\\Code\\\\Python-Coding\\\\LogisticCircuit\\\\util\\\\\",type=str, help=\"Directory for the stored input data.\")\n",
    "\n",
    "parser.add_argument(\"--num_classes\", type=int,default=10, help=\"Number of classes in the classification task.\")\n",
    "\n",
    "parser.add_argument(\"--vtree\", type=str, default=\"balanced.vtree\", help=\"Path for vtree.\")\n",
    "\n",
    "parser.add_argument(\"--circuit\",type=str,default=\"\",help=\"[Optional] File path for the saved logistic circuit to load. \"\n",
    "                                                        \"Note this circuit has to be based on the same vtree as provided in --vtree.\",)\n",
    "\n",
    "parser.add_argument(\"--num_structure_learning_iterations\",type=int,default=5,\n",
    "                    help=\"[Optional] Num of iterations for structure learning. Its default value is 5000.\",)\n",
    "\n",
    "parser.add_argument(\"--num_parameter_learning_iterations\",type=int,default=15,\n",
    "                    help=\"[Optional] Number of iterations for parameter learning after the structure is changed.\"\"Its default value is 15.\",)\n",
    "\n",
    "parser.add_argument(\"--depth\", type=int, default=2, help=\"[Optional] The depth of every split. Its default value is 2.\")\n",
    "\n",
    "parser.add_argument(\"--num_splits\",type=int,default=3,\n",
    "                    help=\"[Optional] The number of splits in one iteration of structure learning.\" \"It default value is 3.\",)\n",
    "\n",
    "parser.add_argument(\"--percentage\",type=float,default=0.2,\n",
    "                    help=\"[Optional] The percentage of the training dataset that will be used. \" \"Its default value is 100%%.\",)\n",
    "\n",
    "parser.add_argument(\"--save_path\", type=str, default=\"./image/\", help=\"[Optional] File path to save the best-performing circuit.\")\n",
    "FLAGS = parser.parse_args(args=[])\n",
    "if FLAGS.num_classes == 2:\n",
    "    FLAGS.num_classes = 1\n",
    "    message = (\n",
    "        \"It is essentially a binary classification task when num_classes is set to 2, \"\n",
    "        + \"and hence we automatically modify it to be 1 to be better compatible with sklearn.\"\n",
    "    )\n",
    "    warnings.warn(message, stacklevel=2)\n",
    "print(FLAGS)"
   ]
  },
  {
   "cell_type": "code",
   "execution_count": 3,
   "metadata": {},
   "outputs": [
    {
     "name": "stdout",
     "output_type": "stream",
     "text": [
      "Extracting D:\\Code\\Python-Coding\\LogisticCircuit\\util\\train-images-idx3-ubyte.gz D:\\Code\\Python-Coding\\LogisticCircuit\\util\\train-labels-idx1-ubyte.gz\n",
      "Extracting D:\\Code\\Python-Coding\\LogisticCircuit\\util\\t10k-images-idx3-ubyte.gz D:\\Code\\Python-Coding\\LogisticCircuit\\util\\t10k-labels-idx1-ubyte.gz\n"
     ]
    }
   ],
   "source": [
    "# read dataset and vtree\n",
    "data = read_data_sets(FLAGS.data_path, FLAGS.percentage)\n",
    "vtree = Vtree.read(FLAGS.vtree)"
   ]
  },
  {
   "cell_type": "code",
   "execution_count": 4,
   "metadata": {},
   "outputs": [
    {
     "name": "stderr",
     "output_type": "stream",
     "text": [
      "D:\\Software\\Software_Install\\Anaconda3\\lib\\site-packages\\sklearn\\linear_model\\sag.py:337: ConvergenceWarning: The max_iter was reached which means the coef_ did not converge\n",
      "  \"the coef_ did not converge\", ConvergenceWarning)\n"
     ]
    }
   ],
   "source": [
    "# create a logistic circuit\n",
    "if FLAGS.circuit != \"\":\n",
    "    with open(FLAGS.circuit, \"r\") as circuit_file:\n",
    "        circuit = LogisticCircuit(vtree, FLAGS.num_classes, circuit_file=circuit_file)\n",
    "        print(\"The saved circuit is successfully loaded.\")\n",
    "        data.train.features = circuit.calculate_features(data.train.images)\n",
    "else:\n",
    "    circuit = LogisticCircuit(vtree, FLAGS.num_classes)\n",
    "    data.train.features = circuit.calculate_features(data.train.images)\n",
    "    circuit.learn_parameters(data.train, 50)"
   ]
  },
  {
   "cell_type": "code",
   "execution_count": 5,
   "metadata": {},
   "outputs": [
    {
     "name": "stdout",
     "output_type": "stream",
     "text": [
      "The starting circuit has 35280 parameters.\n"
     ]
    }
   ],
   "source": [
    "print(f\"The starting circuit has {circuit.num_parameters} parameters.\")"
   ]
  },
  {
   "cell_type": "code",
   "execution_count": 6,
   "metadata": {},
   "outputs": [
    {
     "name": "stdout",
     "output_type": "stream",
     "text": [
      "Its performance is as follows. Training accuracy: 0.89454\tValid accuracy: 0.85167\tTest accuracy: 0.84060\n",
      "Start structure learning.\n"
     ]
    }
   ],
   "source": [
    "data.valid.features = circuit.calculate_features(data.valid.images)\n",
    "data.test.features = circuit.calculate_features(data.test.images)\n",
    "valid_accuracy = circuit.calculate_accuracy(data.valid)\n",
    "print(\n",
    "    f\"Its performance is as follows. \"\n",
    "    f\"Training accuracy: {circuit.calculate_accuracy(data.train):.5f}\\t\"\n",
    "    f\"Valid accuracy: {valid_accuracy:.5f}\\t\"\n",
    "    f\"Test accuracy: {circuit.calculate_accuracy(data.test):.5f}\"\n",
    ")\n",
    "\n",
    "print(\"Start structure learning.\")"
   ]
  },
  {
   "cell_type": "code",
   "execution_count": 7,
   "metadata": {},
   "outputs": [
    {
     "name": "stderr",
     "output_type": "stream",
     "text": [
      "D:\\Software\\Software_Install\\Anaconda3\\lib\\site-packages\\sklearn\\linear_model\\sag.py:337: ConvergenceWarning: The max_iter was reached which means the coef_ did not converge\n",
      "  \"the coef_ did not converge\", ConvergenceWarning)\n"
     ]
    },
    {
     "name": "stdout",
     "output_type": "stream",
     "text": [
      "Training accuracy: 0.89815\tValid accuracy: 0.85000\tTest accuracy: 0.84100\n",
      "Num parameters: 35410\tTime spent: 36.57\n"
     ]
    },
    {
     "name": "stderr",
     "output_type": "stream",
     "text": [
      "D:\\Software\\Software_Install\\Anaconda3\\lib\\site-packages\\sklearn\\linear_model\\sag.py:337: ConvergenceWarning: The max_iter was reached which means the coef_ did not converge\n",
      "  \"the coef_ did not converge\", ConvergenceWarning)\n"
     ]
    },
    {
     "name": "stdout",
     "output_type": "stream",
     "text": [
      "Training accuracy: 0.90130\tValid accuracy: 0.84833\tTest accuracy: 0.84110\n",
      "Num parameters: 35750\tTime spent: 45.08\n"
     ]
    },
    {
     "name": "stderr",
     "output_type": "stream",
     "text": [
      "D:\\Software\\Software_Install\\Anaconda3\\lib\\site-packages\\sklearn\\linear_model\\sag.py:337: ConvergenceWarning: The max_iter was reached which means the coef_ did not converge\n",
      "  \"the coef_ did not converge\", ConvergenceWarning)\n"
     ]
    },
    {
     "name": "stdout",
     "output_type": "stream",
     "text": [
      "Training accuracy: 0.90361\tValid accuracy: 0.84917\tTest accuracy: 0.84130\n",
      "Num parameters: 35950\tTime spent: 45.09\n"
     ]
    },
    {
     "name": "stderr",
     "output_type": "stream",
     "text": [
      "D:\\Software\\Software_Install\\Anaconda3\\lib\\site-packages\\sklearn\\linear_model\\sag.py:337: ConvergenceWarning: The max_iter was reached which means the coef_ did not converge\n",
      "  \"the coef_ did not converge\", ConvergenceWarning)\n"
     ]
    },
    {
     "name": "stdout",
     "output_type": "stream",
     "text": [
      "Training accuracy: 0.90463\tValid accuracy: 0.85083\tTest accuracy: 0.84150\n",
      "Num parameters: 36230\tTime spent: 48.22\n"
     ]
    },
    {
     "name": "stderr",
     "output_type": "stream",
     "text": [
      "D:\\Software\\Software_Install\\Anaconda3\\lib\\site-packages\\sklearn\\linear_model\\sag.py:337: ConvergenceWarning: The max_iter was reached which means the coef_ did not converge\n",
      "  \"the coef_ did not converge\", ConvergenceWarning)\n"
     ]
    },
    {
     "name": "stdout",
     "output_type": "stream",
     "text": [
      "Training accuracy: 0.90574\tValid accuracy: 0.84833\tTest accuracy: 0.84190\n",
      "Num parameters: 36510\tTime spent: 54.14\n"
     ]
    }
   ],
   "source": [
    "best_accuracy = valid_accuracy\n",
    "for i in range(FLAGS.num_structure_learning_iterations):\n",
    "    cur_time = time.time()\n",
    "\n",
    "    circuit.change_structure(data.train, FLAGS.depth, FLAGS.num_splits)\n",
    "\n",
    "    data.train.features = circuit.calculate_features(data.train.images)\n",
    "    data.valid.features = circuit.calculate_features(data.valid.images)\n",
    "    data.test.features = circuit.calculate_features(data.test.images)\n",
    "\n",
    "    circuit.learn_parameters(data.train, FLAGS.num_parameter_learning_iterations)\n",
    "\n",
    "    valid_accuracy = circuit.calculate_accuracy(data.valid)\n",
    "    print(\n",
    "        f\"Training accuracy: {circuit.calculate_accuracy(data.train):.5f}\\t\"\n",
    "        f\"Valid accuracy: {valid_accuracy:.5f}\\t\"\n",
    "        f\"Test accuracy: {circuit.calculate_accuracy(data.test):.5f}\"\n",
    "    )\n",
    "    print(f\"Num parameters: {circuit.num_parameters}\\tTime spent: {(time.time() - cur_time):.2f}\")\n",
    "\n",
    "    if FLAGS.save_path != \"\" and (valid_accuracy > best_accuracy):\n",
    "        best_accuracy = valid_accuracy\n",
    "        print(\"Obtained a logistic circuit with higher classification accuracy. Start saving.\")\n",
    "        with open(FLAGS.save_path, \"w\") as circuit_file:\n",
    "            circuit.save(circuit_file)\n",
    "        print(\"Logistic circuit saved.\")"
   ]
  },
  {
   "cell_type": "code",
   "execution_count": null,
   "metadata": {},
   "outputs": [],
   "source": []
  }
 ],
 "metadata": {
  "kernelspec": {
   "display_name": "Python 3",
   "language": "python",
   "name": "python3"
  },
  "language_info": {
   "codemirror_mode": {
    "name": "ipython",
    "version": 3
   },
   "file_extension": ".py",
   "mimetype": "text/x-python",
   "name": "python",
   "nbconvert_exporter": "python",
   "pygments_lexer": "ipython3",
   "version": "3.7.4"
  }
 },
 "nbformat": 4,
 "nbformat_minor": 4
}

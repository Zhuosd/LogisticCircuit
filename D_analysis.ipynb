{
 "cells": [
  {
   "cell_type": "code",
   "execution_count": 1,
   "metadata": {},
   "outputs": [],
   "source": [
    "import pandas as pd\n",
    "import numpy as np"
   ]
  },
  {
   "cell_type": "code",
   "execution_count": 2,
   "metadata": {},
   "outputs": [],
   "source": [
    "data = pd.read_table(\"D.txt\")"
   ]
  },
  {
   "cell_type": "code",
   "execution_count": 4,
   "metadata": {},
   "outputs": [
    {
     "data": {
      "text/plain": [
       "pandas.core.frame.DataFrame"
      ]
     },
     "execution_count": 4,
     "metadata": {},
     "output_type": "execute_result"
    }
   ],
   "source": [
    "type(data)"
   ]
  },
  {
   "cell_type": "code",
   "execution_count": null,
   "metadata": {},
   "outputs": [],
   "source": [
    "data = data"
   ]
  },
  {
   "cell_type": "code",
   "execution_count": 18,
   "metadata": {},
   "outputs": [],
   "source": [
    "full_sou = \"./D.txt\"\n",
    "full_tar = './新建文本文档.txt'\n",
    "with open(full_sou, 'r') as f:\n",
    "    context = f.readlines()\n",
    "    context = list(map(lambda x: x.replace('(',' '),context))\n",
    "    context = list(map(lambda x: x.replace(')',' '),context))\n",
    "with open(full_tar, 'w') as f:\n",
    "        f.writelines(context)"
   ]
  },
  {
   "cell_type": "code",
   "execution_count": 33,
   "metadata": {},
   "outputs": [],
   "source": [
    "data1 = pd.read_table(\"新建文本文档.txt\",encoding='utf-8',header=None,sep='\\t')"
   ]
  },
  {
   "cell_type": "code",
   "execution_count": 34,
   "metadata": {},
   "outputs": [
    {
     "data": {
      "text/html": [
       "<div>\n",
       "<style scoped>\n",
       "    .dataframe tbody tr th:only-of-type {\n",
       "        vertical-align: middle;\n",
       "    }\n",
       "\n",
       "    .dataframe tbody tr th {\n",
       "        vertical-align: top;\n",
       "    }\n",
       "\n",
       "    .dataframe thead th {\n",
       "        text-align: right;\n",
       "    }\n",
       "</style>\n",
       "<table border=\"1\" class=\"dataframe\">\n",
       "  <thead>\n",
       "    <tr style=\"text-align: right;\">\n",
       "      <th></th>\n",
       "      <th>0</th>\n",
       "    </tr>\n",
       "  </thead>\n",
       "  <tbody>\n",
       "    <tr>\n",
       "      <td>0</td>\n",
       "      <td>D 2351 945 2  445 446 0.010680780161072543 0.0...</td>\n",
       "    </tr>\n",
       "    <tr>\n",
       "      <td>1</td>\n",
       "      <td>D 2372 1031 2  1292 1295 0.0021811390975336516...</td>\n",
       "    </tr>\n",
       "    <tr>\n",
       "      <td>2</td>\n",
       "      <td>D 2263 1117 4  1404 1406 0.19454893109508678 -...</td>\n",
       "    </tr>\n",
       "    <tr>\n",
       "      <td>3</td>\n",
       "      <td>D 2262 1103 4  1400 1402 -0.22590010403239696 ...</td>\n",
       "    </tr>\n",
       "    <tr>\n",
       "      <td>4</td>\n",
       "      <td>D 2260 1116 4  1396 1398 0.2569119949561558 0....</td>\n",
       "    </tr>\n",
       "    <tr>\n",
       "      <td>...</td>\n",
       "      <td>...</td>\n",
       "    </tr>\n",
       "    <tr>\n",
       "      <td>870</td>\n",
       "      <td>D 2363 1565 1  2361 2362 -0.10720924957735876 ...</td>\n",
       "    </tr>\n",
       "    <tr>\n",
       "      <td>871</td>\n",
       "      <td>D 2360 1564 1  2358 2359 -0.0732707235859387 -...</td>\n",
       "    </tr>\n",
       "    <tr>\n",
       "      <td>872</td>\n",
       "      <td>D 2349 1565 1  2205 2348 -0.04354563056095593 ...</td>\n",
       "    </tr>\n",
       "    <tr>\n",
       "      <td>873</td>\n",
       "      <td>D 2014 1564 1  1822 2013 -0.009607103535362538...</td>\n",
       "    </tr>\n",
       "    <tr>\n",
       "      <td>874</td>\n",
       "      <td>D 2350 1566 2  2014 2349 -0.13804214554956026 ...</td>\n",
       "    </tr>\n",
       "  </tbody>\n",
       "</table>\n",
       "<p>875 rows × 1 columns</p>\n",
       "</div>"
      ],
      "text/plain": [
       "                                                     0\n",
       "0    D 2351 945 2  445 446 0.010680780161072543 0.0...\n",
       "1    D 2372 1031 2  1292 1295 0.0021811390975336516...\n",
       "2    D 2263 1117 4  1404 1406 0.19454893109508678 -...\n",
       "3    D 2262 1103 4  1400 1402 -0.22590010403239696 ...\n",
       "4    D 2260 1116 4  1396 1398 0.2569119949561558 0....\n",
       "..                                                 ...\n",
       "870  D 2363 1565 1  2361 2362 -0.10720924957735876 ...\n",
       "871  D 2360 1564 1  2358 2359 -0.0732707235859387 -...\n",
       "872  D 2349 1565 1  2205 2348 -0.04354563056095593 ...\n",
       "873  D 2014 1564 1  1822 2013 -0.009607103535362538...\n",
       "874  D 2350 1566 2  2014 2349 -0.13804214554956026 ...\n",
       "\n",
       "[875 rows x 1 columns]"
      ]
     },
     "execution_count": 34,
     "metadata": {},
     "output_type": "execute_result"
    }
   ],
   "source": [
    "data1"
   ]
  },
  {
   "cell_type": "code",
   "execution_count": null,
   "metadata": {},
   "outputs": [],
   "source": []
  },
  {
   "cell_type": "code",
   "execution_count": null,
   "metadata": {},
   "outputs": [],
   "source": []
  },
  {
   "cell_type": "code",
   "execution_count": null,
   "metadata": {},
   "outputs": [],
   "source": []
  }
 ],
 "metadata": {
  "kernelspec": {
   "display_name": "Python 3",
   "language": "python",
   "name": "python3"
  },
  "language_info": {
   "codemirror_mode": {
    "name": "ipython",
    "version": 3
   },
   "file_extension": ".py",
   "mimetype": "text/x-python",
   "name": "python",
   "nbconvert_exporter": "python",
   "pygments_lexer": "ipython3",
   "version": "3.7.4"
  }
 },
 "nbformat": 4,
 "nbformat_minor": 4
}
